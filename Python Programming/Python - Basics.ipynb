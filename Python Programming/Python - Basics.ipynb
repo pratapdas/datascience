{
 "cells": [
  {
   "cell_type": "markdown",
   "metadata": {},
   "source": [
    "**1. Write a function that inputs a number and prints the multiplication table of that number**"
   ]
  },
  {
   "cell_type": "code",
   "execution_count": 4,
   "metadata": {},
   "outputs": [
    {
     "name": "stdout",
     "output_type": "stream",
     "text": [
      "The multiplication table for 21 is as follows:\n",
      "1 * 21 = 21\n",
      "2 * 21 = 42\n",
      "3 * 21 = 63\n",
      "4 * 21 = 84\n",
      "5 * 21 = 105\n",
      "6 * 21 = 126\n",
      "7 * 21 = 147\n",
      "8 * 21 = 168\n",
      "9 * 21 = 189\n",
      "10 * 21 = 210\n"
     ]
    }
   ],
   "source": [
    "def multiplication_table(n):\n",
    "    print('The multiplication table for {} is as follows:'.format(n))\n",
    "    for i in range(1,11):\n",
    "        print(\"{} * {} = {}\".format(i,n,n*i))\n",
    "multiplication_table(21)"
   ]
  },
  {
   "cell_type": "markdown",
   "metadata": {},
   "source": [
    "**2. Write a program to print twin primes less than 1000. If two consecutive odd numbers are\n",
    "both prime then they are known as twin primes**"
   ]
  },
  {
   "cell_type": "code",
   "execution_count": 12,
   "metadata": {},
   "outputs": [
    {
     "name": "stdout",
     "output_type": "stream",
     "text": [
      "The twin primes less than 100 are [(3, 5), (5, 7), (11, 13), (17, 19), (29, 31), (41, 43), (59, 61), (71, 73), (101, 103), (107, 109), (137, 139), (149, 151), (179, 181), (191, 193), (197, 199), (227, 229), (239, 241), (269, 271), (281, 283), (311, 313), (347, 349), (419, 421), (431, 433), (461, 463), (521, 523), (569, 571), (599, 601), (617, 619), (641, 643), (659, 661), (809, 811), (821, 823), (827, 829), (857, 859), (881, 883)]\n"
     ]
    }
   ],
   "source": [
    "result = []\n",
    "for i in range(3,1000,2):\n",
    "    bool1 = True\n",
    "    for j in range(2,i//2):\n",
    "        if i%j == 0:\n",
    "            bool1 = False\n",
    "    k = i+2\n",
    "    bool2 = True\n",
    "    for j in range(2,k//2):\n",
    "        if k%j == 0:\n",
    "            bool2 = False\n",
    "    if bool1 and bool2:\n",
    "        result.append((i,k))\n",
    "print('The twin primes less than 100 are {}'.format(result))"
   ]
  },
  {
   "cell_type": "markdown",
   "metadata": {},
   "source": [
    "**3. Write a program to find out the prime factors of a number. Example: prime factors of 56 -\n",
    "2, 2, 2, 7**"
   ]
  },
  {
   "cell_type": "code",
   "execution_count": 2,
   "metadata": {},
   "outputs": [
    {
     "name": "stdout",
     "output_type": "stream",
     "text": [
      "Enter a number : 56\n",
      "The prime factors of 56 are [2, 2, 2, 7]\n"
     ]
    }
   ],
   "source": [
    "print('Enter a number :', end = \" \")\n",
    "n = int(input())\n",
    "org_value = n\n",
    "i = 2\n",
    "ans = []\n",
    "while(n>1):\n",
    "    if n%i == 0:\n",
    "        n = n/i\n",
    "        ans.append(i)\n",
    "    else:\n",
    "        i += 1\n",
    "print('The prime factors of {} are {}'.format(org_value,ans))"
   ]
  },
  {
   "cell_type": "markdown",
   "metadata": {},
   "source": [
    "**4. Write a program to implement these formulae of permutations and combinations.\n",
    "Number of permutations of n objects taken r at a time: p(n, r) = n! / (n-r)!. Number of\n",
    "combinations of n objects taken r at a time is: c(n, r) = n! / (r!*(n-r)!) = p(n,r) / r!**"
   ]
  },
  {
   "cell_type": "code",
   "execution_count": 4,
   "metadata": {},
   "outputs": [
    {
     "name": "stdout",
     "output_type": "stream",
     "text": [
      "Enter the value of n : 4\n",
      "Enter the value of r : 2\n",
      "4P2 = 12.0\n",
      "4C2 = 6.0\n"
     ]
    }
   ],
   "source": [
    "def permutation(n,r):\n",
    "    n_fact = 1\n",
    "    n_r_fact = 1\n",
    "    for i in range(2,n+1):\n",
    "        n_fact = n_fact * i\n",
    "    for i in range(2,n-r+1):\n",
    "        n_r_fact = n_r_fact * i\n",
    "    return (n_fact/n_r_fact)\n",
    "\n",
    "def combination(n,r):\n",
    "    perm = permutation(n,r)\n",
    "    r_fact = 1\n",
    "    for i in range(2,r+1):\n",
    "        r_fact = r_fact * i\n",
    "    return (perm/r_fact)\n",
    "print('Enter the value of n :', end = \" \")\n",
    "n = int(input())\n",
    "print('Enter the value of r :', end = \" \")\n",
    "r = int(input())\n",
    "print(\"{}P{} = {}\".format(n,r,permutation(n,r)))\n",
    "print(\"{}C{} = {}\".format(n,r,combination(n,r)))"
   ]
  },
  {
   "cell_type": "markdown",
   "metadata": {},
   "source": [
    "**5. Write a function that converts a decimal number to binary number**"
   ]
  },
  {
   "cell_type": "code",
   "execution_count": 5,
   "metadata": {},
   "outputs": [
    {
     "name": "stdout",
     "output_type": "stream",
     "text": [
      "Enter the decimal number : 56\n",
      "The binary representation of 56 is 111000\n"
     ]
    }
   ],
   "source": [
    "def dec_to_binary(n):\n",
    "    org_value = n\n",
    "    exp = 0\n",
    "    ans = 0\n",
    "    while(n>0):\n",
    "        n,r = divmod(n,2)\n",
    "        ans = ans + r*(10**exp)\n",
    "        exp += 1\n",
    "    print('The binary representation of {} is {}'.format(org_value,ans))\n",
    "print('Enter the decimal number :', end = \" \")\n",
    "n = int(input())\n",
    "dec_to_binary(n)"
   ]
  },
  {
   "cell_type": "markdown",
   "metadata": {},
   "source": [
    "**6. Write a function cubesum() that accepts an integer and returns the sum of the cubes of\n",
    "individual digits of that number. Use this function to make functions PrintArmstrong() and\n",
    "isArmstrong() to print Armstrong numbers and to find whether is an Armstrong number.**"
   ]
  },
  {
   "cell_type": "code",
   "execution_count": 7,
   "metadata": {},
   "outputs": [
    {
     "name": "stdout",
     "output_type": "stream",
     "text": [
      "Enter the number : 153\n",
      "153 is an armstrong number\n"
     ]
    }
   ],
   "source": [
    "def cubesum(n):\n",
    "    ans = 0\n",
    "    while n>0:\n",
    "        n,r = divmod(n,10)\n",
    "        ans = ans + (r**3)\n",
    "    return ans\n",
    "\n",
    "def isArmstrong(n):\n",
    "    x = cubesum(n)\n",
    "    if x == n:\n",
    "        return True\n",
    "    else:\n",
    "        return False\n",
    "\n",
    "def printArmstrong(n):\n",
    "    if isArmstrong(n):\n",
    "        print('{} is an armstrong number'.format(n))\n",
    "    else:\n",
    "        print('{} is not an armstrong number'.format(n))\n",
    "print('Enter the number :', end = \" \")       \n",
    "n = int(input())\n",
    "printArmstrong(n)"
   ]
  },
  {
   "cell_type": "markdown",
   "metadata": {},
   "source": [
    "**7. Write a function prodDigits() that inputs a number and returns the product of digits of that\n",
    "number.**"
   ]
  },
  {
   "cell_type": "code",
   "execution_count": 9,
   "metadata": {},
   "outputs": [
    {
     "name": "stdout",
     "output_type": "stream",
     "text": [
      "Enter a number : 123\n",
      "The product of it's digits is  6\n"
     ]
    }
   ],
   "source": [
    "def prodDigits(n):\n",
    "    prod = 1\n",
    "    while n>0:\n",
    "        n,r = divmod(n,10)\n",
    "        prod = prod * r\n",
    "    return prod\n",
    "\n",
    "print('Enter a number :', end = \" \")       \n",
    "n = int(input())\n",
    "p = prodDigits(n)\n",
    "print(\"The product of it's digits is \", p)"
   ]
  },
  {
   "cell_type": "markdown",
   "metadata": {},
   "source": [
    "**8. If all digits of a number n are multiplied by each other repeating with the product, the one digit number obtained at last is called the multiplicative digital root of n. The number of times digits need to be multiplied to reach one digit is called the multiplicative persistance of n.**\n",
    "\n",
    "**Example: 86 -> 48 -> 32 -> 6 (MDR 6, MPersistence 3) 341 -> 12->2 (MDR 2, MPersistence 2).** \n",
    "\n",
    "**Using the function prodDigits() of previous exercise write functions MDR() and MPersistence() that input a number and return its multiplicative digital root and multiplicative persistence respectively**"
   ]
  },
  {
   "cell_type": "code",
   "execution_count": 10,
   "metadata": {},
   "outputs": [
    {
     "name": "stdout",
     "output_type": "stream",
     "text": [
      "Enter a number : 86\n",
      "The multiplicative digital root of 86 is 6\n",
      "The multiplicative persistence of 86 is 3\n"
     ]
    }
   ],
   "source": [
    "def MDR(n):\n",
    "    while n>=10:\n",
    "        n = prodDigits(n)\n",
    "    return n\n",
    "\n",
    "def MPersistence(n):\n",
    "    c = 0\n",
    "    while n>=10:\n",
    "        n = prodDigits(n)\n",
    "        c += 1\n",
    "    return c\n",
    "\n",
    "print('Enter a number :', end = \" \")       \n",
    "n = int(input())\n",
    "print(\"The multiplicative digital root of {} is {}\".format(n,MDR(n)))\n",
    "print(\"The multiplicative persistence of {} is {}\".format(n,MPersistence(n)))"
   ]
  },
  {
   "cell_type": "markdown",
   "metadata": {},
   "source": [
    "**9. Write a function sumPdivisors() that finds the sum of proper divisors of a number. Proper\n",
    "divisors of a number are those numbers by which the number is divisible, except the\n",
    "number itself. For example proper divisors of 36 are 1, 2, 3, 4, 6, 9, 12, 18.**\n",
    "\n",
    "Note: 12 was not listed as a proper divisor of 36 in the problem sheet. Please correct it."
   ]
  },
  {
   "cell_type": "code",
   "execution_count": 27,
   "metadata": {},
   "outputs": [
    {
     "name": "stdout",
     "output_type": "stream",
     "text": [
      "Enter a number : 16\n",
      "The sum of proper divisors of 16 is 15\n"
     ]
    }
   ],
   "source": [
    "def sumPdivisors(n):\n",
    "    sum = 0\n",
    "    for i in range(1,n//2+1):\n",
    "        if n%i == 0:\n",
    "            sum += i\n",
    "    return sum\n",
    "    \n",
    "print('Enter a number :', end = \" \")       \n",
    "n = int(input())\n",
    "print('The sum of proper divisors of {} is {}'.format(n,sumPdivisors(n)))"
   ]
  },
  {
   "cell_type": "markdown",
   "metadata": {},
   "source": [
    "**10. A number is called perfect if the sum of proper divisors of that number is equal to the\n",
    "number. For example 28 is perfect number, since 1+2+4+7+14=28. Write a program to\n",
    "print all the perfect numbers in a given range**\n"
   ]
  },
  {
   "cell_type": "code",
   "execution_count": 23,
   "metadata": {},
   "outputs": [
    {
     "name": "stdout",
     "output_type": "stream",
     "text": [
      "Enter a lower limit : 1\n",
      "Enter an upper limit : 300\n",
      "The perfect numbers lying between 1 and 300 are :\n",
      "6\n",
      "28\n"
     ]
    }
   ],
   "source": [
    "print('Enter a lower limit :', end = \" \")       \n",
    "a = int(input())\n",
    "print('Enter an upper limit :', end = \" \")       \n",
    "b = int(input())\n",
    "print('The perfect numbers lying between {} and {} are :'.format(a,b))\n",
    "for i in range(a,b+1):\n",
    "    if sumPdivisors(i) == i:\n",
    "        print(i)"
   ]
  },
  {
   "cell_type": "markdown",
   "metadata": {},
   "source": [
    "**11. Two different numbers are called amicable numbers if the sum of the proper divisors of\n",
    "each is equal to the other number. For example 220 and 284 are amicable numbers.**"
   ]
  },
  {
   "cell_type": "code",
   "execution_count": 28,
   "metadata": {},
   "outputs": [
    {
     "name": "stdout",
     "output_type": "stream",
     "text": [
      "Enter a lower limit : 1\n",
      "Enter an upper limit : 300\n",
      "The amicable pairs between 1 and 300 are :\n",
      "(6, 6)\n",
      "(28, 28)\n",
      "(220, 284)\n",
      "(284, 220)\n"
     ]
    }
   ],
   "source": [
    "def amicablePairs(a,b):\n",
    "    for i in range(a,b+1):\n",
    "        x = sumPdivisors(i)\n",
    "        y = sumPdivisors(x)\n",
    "        if i==y:\n",
    "            print((i,x))\n",
    "print('Enter a lower limit :', end = \" \")       \n",
    "a = int(input())\n",
    "print('Enter an upper limit :', end = \" \")       \n",
    "b = int(input())\n",
    "print('The amicable pairs between {} and {} are :'.format(a,b))\n",
    "amicablePairs(a,b)"
   ]
  },
  {
   "cell_type": "markdown",
   "metadata": {},
   "source": [
    "**12. Write a program which can filter odd numbers in a list by using filter function**"
   ]
  },
  {
   "cell_type": "code",
   "execution_count": 34,
   "metadata": {},
   "outputs": [
    {
     "name": "stdout",
     "output_type": "stream",
     "text": [
      "Enter the elements of the list (space-seperated):\n",
      "1 2 3 4 5 6 7\n",
      "The odd numbers in the given list are:\n",
      "[1, 3, 5, 7]\n"
     ]
    }
   ],
   "source": [
    "print('Enter the elements of the list (space-seperated):')\n",
    "lst = input().split()\n",
    "lst = list(map(int,lst))\n",
    "odd_no = list(filter(lambda x : (x%2 != 0),lst))\n",
    "print('The odd numbers in the given list are:')\n",
    "print(odd_no)"
   ]
  },
  {
   "cell_type": "markdown",
   "metadata": {},
   "source": [
    "**13. Write a program which can map() to make a list whose elements are cube of elements in\n",
    "a given list**"
   ]
  },
  {
   "cell_type": "code",
   "execution_count": 35,
   "metadata": {},
   "outputs": [
    {
     "name": "stdout",
     "output_type": "stream",
     "text": [
      "Enter the elements of the list (space-seperated):\n",
      "1 2 3 4 5\n",
      "The list with cubes of the given list:\n",
      "[1, 8, 27, 64, 125]\n"
     ]
    }
   ],
   "source": [
    "print('Enter the elements of the list (space-seperated):')\n",
    "lst = input().split()\n",
    "lst = list(map(int,lst))\n",
    "ans = list(map(lambda x : x**3,lst))\n",
    "print('The list with cubes of the given list:')\n",
    "print(ans)"
   ]
  },
  {
   "cell_type": "markdown",
   "metadata": {},
   "source": [
    "**14. Write a program which can map() and filter() to make a list whose elements are cube of\n",
    "even number in a given list**"
   ]
  },
  {
   "cell_type": "code",
   "execution_count": 37,
   "metadata": {},
   "outputs": [
    {
     "name": "stdout",
     "output_type": "stream",
     "text": [
      "Enter the elements of the list (space-seperated):\n",
      "1 2 3 4 5 6 7 8 9\n",
      "The list with cubes of even numbers the given list:\n",
      "[8, 64, 216, 512]\n"
     ]
    }
   ],
   "source": [
    "print('Enter the elements of the list (space-seperated):')\n",
    "lst = input().split()\n",
    "lst = list(map(int,lst))\n",
    "even_no = list(filter(lambda x : (x%2 == 0),lst))\n",
    "ans = list(map(lambda x : x**3,even_no))\n",
    "print('The list with cubes of even numbers the given list:')\n",
    "print(ans)"
   ]
  }
 ],
 "metadata": {
  "kernelspec": {
   "display_name": "Python 3",
   "language": "python",
   "name": "python3"
  },
  "language_info": {
   "codemirror_mode": {
    "name": "ipython",
    "version": 3
   },
   "file_extension": ".py",
   "mimetype": "text/x-python",
   "name": "python",
   "nbconvert_exporter": "python",
   "pygments_lexer": "ipython3",
   "version": "3.7.4"
  }
 },
 "nbformat": 4,
 "nbformat_minor": 2
}
